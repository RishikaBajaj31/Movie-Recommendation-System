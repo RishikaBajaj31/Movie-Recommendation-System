{
  "nbformat": 4,
  "nbformat_minor": 0,
  "metadata": {
    "colab": {
      "provenance": []
    },
    "kernelspec": {
      "name": "python3",
      "display_name": "Python 3"
    },
    "language_info": {
      "name": "python"
    }
  },
  "cells": [
    {
      "cell_type": "code",
      "execution_count": null,
      "metadata": {
        "id": "GdT2KZE9zOhE"
      },
      "outputs": [],
      "source": [
        "import pandas as pd\n",
        "import numpy as np\n",
        "from sklearn.feature_extraction.text import TfidfVectorizer\n",
        "from sklearn.metrics.pairwise import cosine_similarity"
      ]
    },
    {
      "cell_type": "code",
      "source": [
        "df = pd.read_csv(\"/content/movies.csv\")\n",
        "print(df.head())"
      ],
      "metadata": {
        "colab": {
          "base_uri": "https://localhost:8080/"
        },
        "id": "PoMvVkq910qD",
        "outputId": "88a9358e-a4d9-4651-d4a0-78f6f6bd80b4"
      },
      "execution_count": null,
      "outputs": [
        {
          "output_type": "stream",
          "name": "stdout",
          "text": [
            "   movieId                               title  \\\n",
            "0        1                    Toy Story (1995)   \n",
            "1        2                      Jumanji (1995)   \n",
            "2        3             Grumpier Old Men (1995)   \n",
            "3        4            Waiting to Exhale (1995)   \n",
            "4        5  Father of the Bride Part II (1995)   \n",
            "\n",
            "                                        genres  \n",
            "0  Adventure|Animation|Children|Comedy|Fantasy  \n",
            "1                   Adventure|Children|Fantasy  \n",
            "2                               Comedy|Romance  \n",
            "3                         Comedy|Drama|Romance  \n",
            "4                                       Comedy  \n"
          ]
        }
      ]
    },
    {
      "cell_type": "code",
      "source": [
        "df.isna().sum()"
      ],
      "metadata": {
        "colab": {
          "base_uri": "https://localhost:8080/",
          "height": 178
        },
        "id": "qBrkfGv916lZ",
        "outputId": "58718475-63c6-40b2-c0a7-5141334d6bd9"
      },
      "execution_count": null,
      "outputs": [
        {
          "output_type": "execute_result",
          "data": {
            "text/plain": [
              "movieId    0\n",
              "title      0\n",
              "genres     0\n",
              "dtype: int64"
            ],
            "text/html": [
              "<div>\n",
              "<style scoped>\n",
              "    .dataframe tbody tr th:only-of-type {\n",
              "        vertical-align: middle;\n",
              "    }\n",
              "\n",
              "    .dataframe tbody tr th {\n",
              "        vertical-align: top;\n",
              "    }\n",
              "\n",
              "    .dataframe thead th {\n",
              "        text-align: right;\n",
              "    }\n",
              "</style>\n",
              "<table border=\"1\" class=\"dataframe\">\n",
              "  <thead>\n",
              "    <tr style=\"text-align: right;\">\n",
              "      <th></th>\n",
              "      <th>0</th>\n",
              "    </tr>\n",
              "  </thead>\n",
              "  <tbody>\n",
              "    <tr>\n",
              "      <th>movieId</th>\n",
              "      <td>0</td>\n",
              "    </tr>\n",
              "    <tr>\n",
              "      <th>title</th>\n",
              "      <td>0</td>\n",
              "    </tr>\n",
              "    <tr>\n",
              "      <th>genres</th>\n",
              "      <td>0</td>\n",
              "    </tr>\n",
              "  </tbody>\n",
              "</table>\n",
              "</div><br><label><b>dtype:</b> int64</label>"
            ]
          },
          "metadata": {},
          "execution_count": 5
        }
      ]
    },
    {
      "cell_type": "code",
      "source": [
        "import re\n",
        "\n",
        "def clean_title(title):\n",
        "    return re.sub(\"[^a-zA-Z0-9 ]\", \"\", title)"
      ],
      "metadata": {
        "id": "8lLVrWcF1-P7"
      },
      "execution_count": null,
      "outputs": []
    },
    {
      "cell_type": "code",
      "source": [
        "df['genres_list'] = df['genres'].str.replace('|', ' ')\n",
        "df['clean_title'] = df['title'].apply(clean_title)\n",
        "\n",
        "movies_data = df[['movieId', 'clean_title', 'genres_list']]\n",
        "print(movies_data.head())"
      ],
      "metadata": {
        "colab": {
          "base_uri": "https://localhost:8080/"
        },
        "id": "52FqDjdB2DLQ",
        "outputId": "3e87260d-03b9-419a-cf69-4cac0523e136"
      },
      "execution_count": null,
      "outputs": [
        {
          "output_type": "stream",
          "name": "stdout",
          "text": [
            "   movieId                       clean_title  \\\n",
            "0        1                    Toy Story 1995   \n",
            "1        2                      Jumanji 1995   \n",
            "2        3             Grumpier Old Men 1995   \n",
            "3        4            Waiting to Exhale 1995   \n",
            "4        5  Father of the Bride Part II 1995   \n",
            "\n",
            "                                   genres_list  \n",
            "0  Adventure Animation Children Comedy Fantasy  \n",
            "1                   Adventure Children Fantasy  \n",
            "2                               Comedy Romance  \n",
            "3                         Comedy Drama Romance  \n",
            "4                                       Comedy  \n"
          ]
        }
      ]
    },
    {
      "cell_type": "code",
      "source": [
        "df1 = pd.read_csv(\"/content/ratings.csv\")\n",
        "print(df1.head())"
      ],
      "metadata": {
        "colab": {
          "base_uri": "https://localhost:8080/"
        },
        "id": "e7jRqPlN2KxY",
        "outputId": "ba40f9a9-fc5e-4362-e790-bf74ecb97f71"
      },
      "execution_count": null,
      "outputs": [
        {
          "output_type": "stream",
          "name": "stdout",
          "text": [
            "   userId  movieId  rating   timestamp\n",
            "0       1      296     5.0  1147880044\n",
            "1       1      306     3.5  1147868817\n",
            "2       1      307     5.0  1147868828\n",
            "3       1      665     5.0  1147878820\n",
            "4       1      899     3.5  1147868510\n"
          ]
        }
      ]
    },
    {
      "cell_type": "code",
      "source": [
        "df1.isna().sum()"
      ],
      "metadata": {
        "colab": {
          "base_uri": "https://localhost:8080/",
          "height": 209
        },
        "id": "FBvxcOcu3ke6",
        "outputId": "5edc4f2a-ae00-4226-ab15-134d94398030"
      },
      "execution_count": null,
      "outputs": [
        {
          "output_type": "execute_result",
          "data": {
            "text/plain": [
              "userId       0\n",
              "movieId      0\n",
              "rating       0\n",
              "timestamp    0\n",
              "dtype: int64"
            ],
            "text/html": [
              "<div>\n",
              "<style scoped>\n",
              "    .dataframe tbody tr th:only-of-type {\n",
              "        vertical-align: middle;\n",
              "    }\n",
              "\n",
              "    .dataframe tbody tr th {\n",
              "        vertical-align: top;\n",
              "    }\n",
              "\n",
              "    .dataframe thead th {\n",
              "        text-align: right;\n",
              "    }\n",
              "</style>\n",
              "<table border=\"1\" class=\"dataframe\">\n",
              "  <thead>\n",
              "    <tr style=\"text-align: right;\">\n",
              "      <th></th>\n",
              "      <th>0</th>\n",
              "    </tr>\n",
              "  </thead>\n",
              "  <tbody>\n",
              "    <tr>\n",
              "      <th>userId</th>\n",
              "      <td>0</td>\n",
              "    </tr>\n",
              "    <tr>\n",
              "      <th>movieId</th>\n",
              "      <td>0</td>\n",
              "    </tr>\n",
              "    <tr>\n",
              "      <th>rating</th>\n",
              "      <td>0</td>\n",
              "    </tr>\n",
              "    <tr>\n",
              "      <th>timestamp</th>\n",
              "      <td>0</td>\n",
              "    </tr>\n",
              "  </tbody>\n",
              "</table>\n",
              "</div><br><label><b>dtype:</b> int64</label>"
            ]
          },
          "metadata": {},
          "execution_count": 11
        }
      ]
    },
    {
      "cell_type": "code",
      "source": [
        "ratings_data = df1.drop(['timestamp'], axis=1)\n",
        "print(ratings_data.head())"
      ],
      "metadata": {
        "colab": {
          "base_uri": "https://localhost:8080/"
        },
        "id": "8FseWpLV3ol7",
        "outputId": "6a950ce2-298c-4312-e0ee-a491456c3785"
      },
      "execution_count": null,
      "outputs": [
        {
          "output_type": "stream",
          "name": "stdout",
          "text": [
            "   userId  movieId  rating\n",
            "0       1      296     5.0\n",
            "1       1      306     3.5\n",
            "2       1      307     5.0\n",
            "3       1      665     5.0\n",
            "4       1      899     3.5\n"
          ]
        }
      ]
    },
    {
      "cell_type": "code",
      "source": [
        "combined_data = ratings_data.merge(movies_data, on='movieId')\n",
        "print(combined_data.head())"
      ],
      "metadata": {
        "colab": {
          "base_uri": "https://localhost:8080/"
        },
        "id": "msi_Twea30cX",
        "outputId": "d27f8404-ab61-44dd-a1f7-18cf9213ed2d"
      },
      "execution_count": null,
      "outputs": [
        {
          "output_type": "stream",
          "name": "stdout",
          "text": [
            "   userId  movieId  rating                                 clean_title  \\\n",
            "0       1      296     5.0                           Pulp Fiction 1994   \n",
            "1       1      306     3.5  Three Colors Red Trois couleurs Rouge 1994   \n",
            "2       1      307     5.0  Three Colors Blue Trois couleurs Bleu 1993   \n",
            "3       1      665     5.0                            Underground 1995   \n",
            "4       1      899     3.5                     Singin in the Rain 1952   \n",
            "\n",
            "                   genres_list  \n",
            "0  Comedy Crime Drama Thriller  \n",
            "1                        Drama  \n",
            "2                        Drama  \n",
            "3             Comedy Drama War  \n",
            "4       Comedy Musical Romance  \n"
          ]
        }
      ]
    },
    {
      "cell_type": "code",
      "source": [
        "vectorizer_title = TfidfVectorizer(ngram_range=(1,2))\n",
        "\n",
        "tfidf_title = vectorizer_title.fit_transform(movies_data['clean_title'])\n",
        "\n",
        "def search_by_title(title):\n",
        "    title = clean_title(title)\n",
        "    query_vec = vectorizer_title.transform([title])\n",
        "    similarity = cosine_similarity(query_vec, tfidf_title).flatten()\n",
        "    indices = np.argpartition(similarity, -5)[-5:]\n",
        "    results = movies_data.iloc[indices][::-1]\n",
        "    return results\n",
        "\n",
        "movie_results = search_by_title(\"Toy Story\")\n",
        "print(movie_results)"
      ],
      "metadata": {
        "colab": {
          "base_uri": "https://localhost:8080/"
        },
        "id": "t6qKP12O33jS",
        "outputId": "350c5e01-e965-4d84-cb1f-ef44b73c8a96"
      },
      "execution_count": null,
      "outputs": [
        {
          "output_type": "stream",
          "name": "stdout",
          "text": [
            "       movieId               clean_title  \\\n",
            "3021      3114          Toy Story 2 1999   \n",
            "14813    78499          Toy Story 3 2010   \n",
            "0            1            Toy Story 1995   \n",
            "59767   201588          Toy Story 4 2019   \n",
            "20497   106022  Toy Story of Terror 2013   \n",
            "\n",
            "                                            genres_list  \n",
            "3021        Adventure Animation Children Comedy Fantasy  \n",
            "14813  Adventure Animation Children Comedy Fantasy IMAX  \n",
            "0           Adventure Animation Children Comedy Fantasy  \n",
            "59767               Adventure Animation Children Comedy  \n",
            "20497                         Animation Children Comedy  \n"
          ]
        }
      ]
    },
    {
      "cell_type": "code",
      "source": [
        "vectorizer_genres = TfidfVectorizer(ngram_range=(1,2))\n",
        "\n",
        "tfidf_genres = vectorizer_genres.fit_transform(movies_data['genres_list'])\n",
        "\n",
        "def search_similar_genres(genres):\n",
        "    query_vec = vectorizer_genres.transform([genres])\n",
        "    similarity = cosine_similarity(query_vec, tfidf_genres).flatten()\n",
        "    indices = np.argpartition(similarity, -10)[-10:]\n",
        "    results = movies_data.iloc[indices][::-1]\n",
        "    return results\n",
        "\n",
        "gen = 'Adventure Comedy'\n",
        "print(search_similar_genres(gen))"
      ],
      "metadata": {
        "colab": {
          "base_uri": "https://localhost:8080/"
        },
        "id": "oo7rxae_38fr",
        "outputId": "3fec2be4-60d6-48c6-ddd5-dec4bcc71e8d"
      },
      "execution_count": null,
      "outputs": [
        {
          "output_type": "stream",
          "name": "stdout",
          "text": [
            "       movieId                                        clean_title  \\\n",
            "25659   124232                          The Fuller Brush Man 1948   \n",
            "2379      2470                              Crocodile Dundee 1986   \n",
            "21378   110223                         Prisoner of Zenda The 1979   \n",
            "37582   152970                     Hunt for the Wilderpeople 2016   \n",
            "5808      5920     Ace of Aces aka Super Ace The As des as L 1982   \n",
            "57227   195905                                     Fools Day 2014   \n",
            "3651      3752                              Me Myself  Irene 2000   \n",
            "53513   187573                      Blondie Takes a Vacation 1939   \n",
            "18675    97665  Asterix  Obelix God Save Britannia Astrix et O...   \n",
            "37581   152968                                        Lusers 2015   \n",
            "\n",
            "            genres_list  \n",
            "25659  Adventure Comedy  \n",
            "2379   Adventure Comedy  \n",
            "21378  Adventure Comedy  \n",
            "37582  Adventure Comedy  \n",
            "5808   Adventure Comedy  \n",
            "57227  Adventure Comedy  \n",
            "3651   Adventure Comedy  \n",
            "53513  Adventure Comedy  \n",
            "18675  Adventure Comedy  \n",
            "37581  Adventure Comedy  \n"
          ]
        }
      ]
    },
    {
      "cell_type": "code",
      "source": [
        "def scores_calculator(movie_id):\n",
        "    #find the recommendations from users who like the same movie\n",
        "    similar_users = combined_data[(combined_data['movieId']== movie_id) & (combined_data['rating']>=4)]['userId'].unique()\n",
        "    similar_user_recs = combined_data[(combined_data['userId'].isin(similar_users)) & (combined_data['rating']>=4)]['movieId']\n",
        "    similar_user_recs = similar_user_recs.value_counts() / len(similar_users)\n",
        "    #print(similar_user_recs)\n",
        "\n",
        "    #find the recommendations from all users who have watch the movies above\n",
        "    all_users = combined_data[(combined_data['movieId'].isin(similar_user_recs.index)) & (combined_data['rating']>=4)]\n",
        "    all_users_recs = all_users['movieId'].value_counts() / all_users['userId'].nunique()\n",
        "    #print(all_users_recs)\n",
        "\n",
        "    genres_of_selected_movie = combined_data[combined_data['movieId']==movie_id]['genres_list'].unique()\n",
        "    genres_of_selected_movie = np.array2string(genres_of_selected_movie)\n",
        "    movies_with_similar_genres = search_similar_genres(genres_of_selected_movie)\n",
        "\n",
        "    indices = []\n",
        "    for index in movies_with_similar_genres[(movies_with_similar_genres['movieId'].isin(similar_user_recs.index))]['movieId']:\n",
        "        indices.append(index)\n",
        "\n",
        "    #times a factor 1.5 to movies with similar genres and similar users\n",
        "    similar_user_recs.loc[indices] = similar_user_recs.loc[indices]*1.5\n",
        "\n",
        "    #times a factor 0.9 to movies with similar genres and all users\n",
        "    indices = []\n",
        "    for index in movies_with_similar_genres[(movies_with_similar_genres['movieId'].isin(all_users_recs.index))]['movieId']:\n",
        "        indices.append(index)\n",
        "    all_users_recs.loc[indices] = all_users_recs.loc[indices]*0.9\n",
        "\n",
        "    rec_percentages = pd.concat([similar_user_recs, all_users_recs], axis=1)\n",
        "    rec_percentages.columns = ['similar', 'all']\n",
        "    rec_percentages['score'] = rec_percentages['similar'] / rec_percentages['all']\n",
        "\n",
        "    rec_percentages = rec_percentages.sort_values('score', ascending=False)\n",
        "    return rec_percentages\n",
        "\n",
        "scores_calculator(3114)"
      ],
      "metadata": {
        "colab": {
          "base_uri": "https://localhost:8080/",
          "height": 455
        },
        "id": "FgOJLW9Q4I1Y",
        "outputId": "2ae80714-11bb-40bf-a2ba-e76ab34ee04c"
      },
      "execution_count": null,
      "outputs": [
        {
          "output_type": "execute_result",
          "data": {
            "text/plain": [
              "          similar       all      score\n",
              "movieId                               \n",
              "115875   0.001433  0.000085  16.938207\n",
              "3114     1.000000  0.098397  10.162924\n",
              "6388     0.001433  0.000141  10.162924\n",
              "2821     0.001433  0.000141  10.162924\n",
              "31086    0.001433  0.000141  10.162924\n",
              "...           ...       ...        ...\n",
              "33138    0.000478  0.001269   0.376405\n",
              "437      0.000478  0.001316   0.362962\n",
              "50011    0.000478  0.001316   0.362962\n",
              "1043     0.000478  0.001457   0.327836\n",
              "64       0.000478  0.002069   0.230976\n",
              "\n",
              "[15033 rows x 3 columns]"
            ],
            "text/html": [
              "\n",
              "  <div id=\"df-13bed130-a236-48a0-9ad2-1b4d49321c58\" class=\"colab-df-container\">\n",
              "    <div>\n",
              "<style scoped>\n",
              "    .dataframe tbody tr th:only-of-type {\n",
              "        vertical-align: middle;\n",
              "    }\n",
              "\n",
              "    .dataframe tbody tr th {\n",
              "        vertical-align: top;\n",
              "    }\n",
              "\n",
              "    .dataframe thead th {\n",
              "        text-align: right;\n",
              "    }\n",
              "</style>\n",
              "<table border=\"1\" class=\"dataframe\">\n",
              "  <thead>\n",
              "    <tr style=\"text-align: right;\">\n",
              "      <th></th>\n",
              "      <th>similar</th>\n",
              "      <th>all</th>\n",
              "      <th>score</th>\n",
              "    </tr>\n",
              "    <tr>\n",
              "      <th>movieId</th>\n",
              "      <th></th>\n",
              "      <th></th>\n",
              "      <th></th>\n",
              "    </tr>\n",
              "  </thead>\n",
              "  <tbody>\n",
              "    <tr>\n",
              "      <th>115875</th>\n",
              "      <td>0.001433</td>\n",
              "      <td>0.000085</td>\n",
              "      <td>16.938207</td>\n",
              "    </tr>\n",
              "    <tr>\n",
              "      <th>3114</th>\n",
              "      <td>1.000000</td>\n",
              "      <td>0.098397</td>\n",
              "      <td>10.162924</td>\n",
              "    </tr>\n",
              "    <tr>\n",
              "      <th>6388</th>\n",
              "      <td>0.001433</td>\n",
              "      <td>0.000141</td>\n",
              "      <td>10.162924</td>\n",
              "    </tr>\n",
              "    <tr>\n",
              "      <th>2821</th>\n",
              "      <td>0.001433</td>\n",
              "      <td>0.000141</td>\n",
              "      <td>10.162924</td>\n",
              "    </tr>\n",
              "    <tr>\n",
              "      <th>31086</th>\n",
              "      <td>0.001433</td>\n",
              "      <td>0.000141</td>\n",
              "      <td>10.162924</td>\n",
              "    </tr>\n",
              "    <tr>\n",
              "      <th>...</th>\n",
              "      <td>...</td>\n",
              "      <td>...</td>\n",
              "      <td>...</td>\n",
              "    </tr>\n",
              "    <tr>\n",
              "      <th>33138</th>\n",
              "      <td>0.000478</td>\n",
              "      <td>0.001269</td>\n",
              "      <td>0.376405</td>\n",
              "    </tr>\n",
              "    <tr>\n",
              "      <th>437</th>\n",
              "      <td>0.000478</td>\n",
              "      <td>0.001316</td>\n",
              "      <td>0.362962</td>\n",
              "    </tr>\n",
              "    <tr>\n",
              "      <th>50011</th>\n",
              "      <td>0.000478</td>\n",
              "      <td>0.001316</td>\n",
              "      <td>0.362962</td>\n",
              "    </tr>\n",
              "    <tr>\n",
              "      <th>1043</th>\n",
              "      <td>0.000478</td>\n",
              "      <td>0.001457</td>\n",
              "      <td>0.327836</td>\n",
              "    </tr>\n",
              "    <tr>\n",
              "      <th>64</th>\n",
              "      <td>0.000478</td>\n",
              "      <td>0.002069</td>\n",
              "      <td>0.230976</td>\n",
              "    </tr>\n",
              "  </tbody>\n",
              "</table>\n",
              "<p>15033 rows × 3 columns</p>\n",
              "</div>\n",
              "    <div class=\"colab-df-buttons\">\n",
              "\n",
              "  <div class=\"colab-df-container\">\n",
              "    <button class=\"colab-df-convert\" onclick=\"convertToInteractive('df-13bed130-a236-48a0-9ad2-1b4d49321c58')\"\n",
              "            title=\"Convert this dataframe to an interactive table.\"\n",
              "            style=\"display:none;\">\n",
              "\n",
              "  <svg xmlns=\"http://www.w3.org/2000/svg\" height=\"24px\" viewBox=\"0 -960 960 960\">\n",
              "    <path d=\"M120-120v-720h720v720H120Zm60-500h600v-160H180v160Zm220 220h160v-160H400v160Zm0 220h160v-160H400v160ZM180-400h160v-160H180v160Zm440 0h160v-160H620v160ZM180-180h160v-160H180v160Zm440 0h160v-160H620v160Z\"/>\n",
              "  </svg>\n",
              "    </button>\n",
              "\n",
              "  <style>\n",
              "    .colab-df-container {\n",
              "      display:flex;\n",
              "      gap: 12px;\n",
              "    }\n",
              "\n",
              "    .colab-df-convert {\n",
              "      background-color: #E8F0FE;\n",
              "      border: none;\n",
              "      border-radius: 50%;\n",
              "      cursor: pointer;\n",
              "      display: none;\n",
              "      fill: #1967D2;\n",
              "      height: 32px;\n",
              "      padding: 0 0 0 0;\n",
              "      width: 32px;\n",
              "    }\n",
              "\n",
              "    .colab-df-convert:hover {\n",
              "      background-color: #E2EBFA;\n",
              "      box-shadow: 0px 1px 2px rgba(60, 64, 67, 0.3), 0px 1px 3px 1px rgba(60, 64, 67, 0.15);\n",
              "      fill: #174EA6;\n",
              "    }\n",
              "\n",
              "    .colab-df-buttons div {\n",
              "      margin-bottom: 4px;\n",
              "    }\n",
              "\n",
              "    [theme=dark] .colab-df-convert {\n",
              "      background-color: #3B4455;\n",
              "      fill: #D2E3FC;\n",
              "    }\n",
              "\n",
              "    [theme=dark] .colab-df-convert:hover {\n",
              "      background-color: #434B5C;\n",
              "      box-shadow: 0px 1px 3px 1px rgba(0, 0, 0, 0.15);\n",
              "      filter: drop-shadow(0px 1px 2px rgba(0, 0, 0, 0.3));\n",
              "      fill: #FFFFFF;\n",
              "    }\n",
              "  </style>\n",
              "\n",
              "    <script>\n",
              "      const buttonEl =\n",
              "        document.querySelector('#df-13bed130-a236-48a0-9ad2-1b4d49321c58 button.colab-df-convert');\n",
              "      buttonEl.style.display =\n",
              "        google.colab.kernel.accessAllowed ? 'block' : 'none';\n",
              "\n",
              "      async function convertToInteractive(key) {\n",
              "        const element = document.querySelector('#df-13bed130-a236-48a0-9ad2-1b4d49321c58');\n",
              "        const dataTable =\n",
              "          await google.colab.kernel.invokeFunction('convertToInteractive',\n",
              "                                                    [key], {});\n",
              "        if (!dataTable) return;\n",
              "\n",
              "        const docLinkHtml = 'Like what you see? Visit the ' +\n",
              "          '<a target=\"_blank\" href=https://colab.research.google.com/notebooks/data_table.ipynb>data table notebook</a>'\n",
              "          + ' to learn more about interactive tables.';\n",
              "        element.innerHTML = '';\n",
              "        dataTable['output_type'] = 'display_data';\n",
              "        await google.colab.output.renderOutput(dataTable, element);\n",
              "        const docLink = document.createElement('div');\n",
              "        docLink.innerHTML = docLinkHtml;\n",
              "        element.appendChild(docLink);\n",
              "      }\n",
              "    </script>\n",
              "  </div>\n",
              "\n",
              "\n",
              "<div id=\"df-0f89d57d-35d7-4122-b265-dfd00c56fbbb\">\n",
              "  <button class=\"colab-df-quickchart\" onclick=\"quickchart('df-0f89d57d-35d7-4122-b265-dfd00c56fbbb')\"\n",
              "            title=\"Suggest charts\"\n",
              "            style=\"display:none;\">\n",
              "\n",
              "<svg xmlns=\"http://www.w3.org/2000/svg\" height=\"24px\"viewBox=\"0 0 24 24\"\n",
              "     width=\"24px\">\n",
              "    <g>\n",
              "        <path d=\"M19 3H5c-1.1 0-2 .9-2 2v14c0 1.1.9 2 2 2h14c1.1 0 2-.9 2-2V5c0-1.1-.9-2-2-2zM9 17H7v-7h2v7zm4 0h-2V7h2v10zm4 0h-2v-4h2v4z\"/>\n",
              "    </g>\n",
              "</svg>\n",
              "  </button>\n",
              "\n",
              "<style>\n",
              "  .colab-df-quickchart {\n",
              "      --bg-color: #E8F0FE;\n",
              "      --fill-color: #1967D2;\n",
              "      --hover-bg-color: #E2EBFA;\n",
              "      --hover-fill-color: #174EA6;\n",
              "      --disabled-fill-color: #AAA;\n",
              "      --disabled-bg-color: #DDD;\n",
              "  }\n",
              "\n",
              "  [theme=dark] .colab-df-quickchart {\n",
              "      --bg-color: #3B4455;\n",
              "      --fill-color: #D2E3FC;\n",
              "      --hover-bg-color: #434B5C;\n",
              "      --hover-fill-color: #FFFFFF;\n",
              "      --disabled-bg-color: #3B4455;\n",
              "      --disabled-fill-color: #666;\n",
              "  }\n",
              "\n",
              "  .colab-df-quickchart {\n",
              "    background-color: var(--bg-color);\n",
              "    border: none;\n",
              "    border-radius: 50%;\n",
              "    cursor: pointer;\n",
              "    display: none;\n",
              "    fill: var(--fill-color);\n",
              "    height: 32px;\n",
              "    padding: 0;\n",
              "    width: 32px;\n",
              "  }\n",
              "\n",
              "  .colab-df-quickchart:hover {\n",
              "    background-color: var(--hover-bg-color);\n",
              "    box-shadow: 0 1px 2px rgba(60, 64, 67, 0.3), 0 1px 3px 1px rgba(60, 64, 67, 0.15);\n",
              "    fill: var(--button-hover-fill-color);\n",
              "  }\n",
              "\n",
              "  .colab-df-quickchart-complete:disabled,\n",
              "  .colab-df-quickchart-complete:disabled:hover {\n",
              "    background-color: var(--disabled-bg-color);\n",
              "    fill: var(--disabled-fill-color);\n",
              "    box-shadow: none;\n",
              "  }\n",
              "\n",
              "  .colab-df-spinner {\n",
              "    border: 2px solid var(--fill-color);\n",
              "    border-color: transparent;\n",
              "    border-bottom-color: var(--fill-color);\n",
              "    animation:\n",
              "      spin 1s steps(1) infinite;\n",
              "  }\n",
              "\n",
              "  @keyframes spin {\n",
              "    0% {\n",
              "      border-color: transparent;\n",
              "      border-bottom-color: var(--fill-color);\n",
              "      border-left-color: var(--fill-color);\n",
              "    }\n",
              "    20% {\n",
              "      border-color: transparent;\n",
              "      border-left-color: var(--fill-color);\n",
              "      border-top-color: var(--fill-color);\n",
              "    }\n",
              "    30% {\n",
              "      border-color: transparent;\n",
              "      border-left-color: var(--fill-color);\n",
              "      border-top-color: var(--fill-color);\n",
              "      border-right-color: var(--fill-color);\n",
              "    }\n",
              "    40% {\n",
              "      border-color: transparent;\n",
              "      border-right-color: var(--fill-color);\n",
              "      border-top-color: var(--fill-color);\n",
              "    }\n",
              "    60% {\n",
              "      border-color: transparent;\n",
              "      border-right-color: var(--fill-color);\n",
              "    }\n",
              "    80% {\n",
              "      border-color: transparent;\n",
              "      border-right-color: var(--fill-color);\n",
              "      border-bottom-color: var(--fill-color);\n",
              "    }\n",
              "    90% {\n",
              "      border-color: transparent;\n",
              "      border-bottom-color: var(--fill-color);\n",
              "    }\n",
              "  }\n",
              "</style>\n",
              "\n",
              "  <script>\n",
              "    async function quickchart(key) {\n",
              "      const quickchartButtonEl =\n",
              "        document.querySelector('#' + key + ' button');\n",
              "      quickchartButtonEl.disabled = true;  // To prevent multiple clicks.\n",
              "      quickchartButtonEl.classList.add('colab-df-spinner');\n",
              "      try {\n",
              "        const charts = await google.colab.kernel.invokeFunction(\n",
              "            'suggestCharts', [key], {});\n",
              "      } catch (error) {\n",
              "        console.error('Error during call to suggestCharts:', error);\n",
              "      }\n",
              "      quickchartButtonEl.classList.remove('colab-df-spinner');\n",
              "      quickchartButtonEl.classList.add('colab-df-quickchart-complete');\n",
              "    }\n",
              "    (() => {\n",
              "      let quickchartButtonEl =\n",
              "        document.querySelector('#df-0f89d57d-35d7-4122-b265-dfd00c56fbbb button');\n",
              "      quickchartButtonEl.style.display =\n",
              "        google.colab.kernel.accessAllowed ? 'block' : 'none';\n",
              "    })();\n",
              "  </script>\n",
              "</div>\n",
              "\n",
              "    </div>\n",
              "  </div>\n"
            ],
            "application/vnd.google.colaboratory.intrinsic+json": {
              "type": "dataframe",
              "summary": "{\n  \"name\": \"scores_calculator(3114)\",\n  \"rows\": 15033,\n  \"fields\": [\n    {\n      \"column\": \"movieId\",\n      \"properties\": {\n        \"dtype\": \"number\",\n        \"std\": 62452,\n        \"min\": 1,\n        \"max\": 208939,\n        \"num_unique_values\": 15033,\n        \"samples\": [\n          78490,\n          105835,\n          99523\n        ],\n        \"semantic_type\": \"\",\n        \"description\": \"\"\n      }\n    },\n    {\n      \"column\": \"similar\",\n      \"properties\": {\n        \"dtype\": \"number\",\n        \"std\": 0.03946945735579074,\n        \"min\": 0.00047778308647873863,\n        \"max\": 1.1266125179168658,\n        \"num_unique_values\": 473,\n        \"samples\": [\n          0.018633540372670808,\n          0.07883420926899187,\n          0.024366937410415672\n        ],\n        \"semantic_type\": \"\",\n        \"description\": \"\"\n      }\n    },\n    {\n      \"column\": \"all\",\n      \"properties\": {\n        \"dtype\": \"number\",\n        \"std\": 0.01818161596102044,\n        \"min\": 4.701236425179822e-05,\n        \"max\": 0.43072728127497534,\n        \"num_unique_values\": 1052,\n        \"samples\": [\n          0.003196840769122279,\n          0.05359409524704997,\n          0.013633585633021484\n        ],\n        \"semantic_type\": \"\",\n        \"description\": \"\"\n      }\n    },\n    {\n      \"column\": \"score\",\n      \"properties\": {\n        \"dtype\": \"number\",\n        \"std\": 2.847183841597321,\n        \"min\": 0.23097554619293748,\n        \"max\": 16.93820672081542,\n        \"num_unique_values\": 2933,\n        \"samples\": [\n          2.7855190454497114,\n          1.9089090113934837,\n          1.1099439216370512\n        ],\n        \"semantic_type\": \"\",\n        \"description\": \"\"\n      }\n    }\n  ]\n}"
            }
          },
          "metadata": {},
          "execution_count": 16
        }
      ]
    },
    {
      "cell_type": "code",
      "source": [
        "def recommendation_results(user_input, title=0):\n",
        "    # user_input = clean_title(user_input)\n",
        "    title_candidates = search_by_title(user_input)\n",
        "    movie_id = title_candidates.iloc[title]['movieId']\n",
        "    scores = scores_calculator(movie_id)\n",
        "    results = scores.head(10).merge(movies_data, left_index=True, right_on='movieId')[['clean_title', 'score', 'genres_list']]\n",
        "    resutls = results.rename(columns={'clean_title': 'title', 'genres_list': 'genres'}, inplace=True)\n",
        "    return results\n",
        "\n",
        "user_input = \"Toy Story\"\n",
        "print(\"Are you looking for (please choose a number): \")\n",
        "for i in range(5):\n",
        "    print(i, \": \", search_by_title(user_input)['clean_title'].iloc[i])\n",
        "\n",
        "title = 0\n",
        "if int(title) in range(5):\n",
        "    print(\"We have following recommendations: \")\n",
        "    print(recommendation_results(user_input, int(title)))\n",
        "else:\n",
        "    print(\"Sorry! please try again!\")"
      ],
      "metadata": {
        "colab": {
          "base_uri": "https://localhost:8080/"
        },
        "id": "x3d0a5te4NS7",
        "outputId": "c458e0d4-0db5-487f-f2a9-d22e7e51e989"
      },
      "execution_count": null,
      "outputs": [
        {
          "output_type": "stream",
          "name": "stdout",
          "text": [
            "Are you looking for (please choose a number): \n",
            "0 :  Toy Story 2 1999\n",
            "1 :  Toy Story 3 2010\n",
            "2 :  Toy Story 1995\n",
            "3 :  Toy Story 4 2019\n",
            "4 :  Toy Story of Terror 2013\n",
            "We have following recommendations: \n",
            "                                                   title      score  \\\n",
            "22633             Toy Story Toons Hawaiian Vacation 2011  16.938207   \n",
            "3021                                    Toy Story 2 1999  10.162924   \n",
            "6269                                   Regeneration 1997  10.162924   \n",
            "2729                                Male and Female 1919  10.162924   \n",
            "9490   Battles Without Honor  Humanity Jingi naki tat...  10.162924   \n",
            "6078                              Lawless Heart The 2003  10.162924   \n",
            "34942                   Naomi and Elys No Kiss List 2015  10.162924   \n",
            "8651             Death Rides a Horse Da uomo a uomo 1967  10.162924   \n",
            "15245                         Phenix City Story The 1955  10.162924   \n",
            "42393                         For the Love of Spock 2016  10.162924   \n",
            "\n",
            "                                            genres  \n",
            "22633  Adventure Animation Children Comedy Fantasy  \n",
            "3021   Adventure Animation Children Comedy Fantasy  \n",
            "6269                                     Drama War  \n",
            "2729                               Adventure Drama  \n",
            "9490                                   Crime Drama  \n",
            "6078                                  Comedy Drama  \n",
            "34942                         Comedy Drama Romance  \n",
            "8651                                Action Western  \n",
            "15245                        Crime Drama Film-Noir  \n",
            "42393                                  Documentary  \n"
          ]
        }
      ]
    }
  ]
}